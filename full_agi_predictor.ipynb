{
 "cells": [
  {
   "cell_type": "markdown",
   "id": "dc97d279",
   "metadata": {},
   "source": [
    "# Pip install "
   ]
  },
  {
   "cell_type": "code",
   "execution_count": 71,
   "id": "2a88d11e",
   "metadata": {},
   "outputs": [],
   "source": [
    "# conda install -c conda-forge xgboost\n",
    "# conda install -c conda-forge shap\n",
    "# conda install -c conda-forge pdpbox"
   ]
  },
  {
   "cell_type": "markdown",
   "id": "3f8921ed",
   "metadata": {},
   "source": [
    "# Import Necessary Libraries"
   ]
  },
  {
   "cell_type": "code",
   "execution_count": 72,
   "id": "bde3a4e5",
   "metadata": {},
   "outputs": [],
   "source": [
    "from sklearn.model_selection import train_test_split\n",
    "from sklearn.pipeline import make_pipeline\n",
    "from category_encoders import OneHotEncoder, OrdinalEncoder\n",
    "from sklearn.preprocessing import StandardScaler\n",
    "from sklearn.impute import SimpleImputer\n",
    "from sklearn.metrics import accuracy_score\n",
    "from sklearn.tree import DecisionTreeClassifier, plot_tree\n",
    "import matplotlib.pyplot as plt\n",
    "from matplotlib.pyplot import figure\n",
    "import pandas as pd\n",
    "import numpy as np\n",
    "from sklearn.ensemble import RandomForestRegressor\n",
    "import scipy.cluster.hierarchy as sch  \n",
    "import numpy as np\n",
    "from sklearn.linear_model import Ridge\n",
    "from sklearn.linear_model import LinearRegression\n",
    "from sklearn.inspection import permutation_importance\n",
    "from sklearn.metrics import mean_absolute_error, mean_squared_error,r2_score\n",
    "from pdpbox.pdp import pdp_isolate, pdp_plot, pdp_interact, pdp_interact_plot\n",
    "from xgboost import XGBRegressor\n",
    "from sklearn.model_selection import cross_val_score, validation_curve\n",
    "from sklearn.model_selection import GridSearchCV, RandomizedSearchCV\n",
    "import matplotlib.pyplot as plt\n",
    "import seaborn as sns"
   ]
  },
  {
   "cell_type": "markdown",
   "id": "b1608249",
   "metadata": {},
   "source": [
    "# Import/Clean Dataset"
   ]
  },
  {
   "cell_type": "code",
   "execution_count": 73,
   "id": "966ca847",
   "metadata": {},
   "outputs": [],
   "source": [
    "#Read in the dataset\n",
    "df = pd.read_csv(\"Research\\Individual_tax_by_zip\\irs_1040_13yrs.csv\", \n",
    "                 index_col = \"year\")\n",
    "\n",
    "#Change the name of the columns to make sense\n",
    "#The Target col will be adj gross income\n",
    "df[\"adj_gross_income\"] = df[\"a00100\"]\n",
    "df[\"num_of_returns\"] = df[\"n1\"]\n",
    "df[\"num_of_exemptions\"] = df[\"n2\"]\n",
    "df[\"num_of_returns_w_taxable_int\"] = df[\"n00300\"]\n",
    "df[\"Ord_dividends_amt\"] = df[\"a00600\"]\n",
    "df[\"net_cap_gain_amt\"] = df[\"a01000\"]\n",
    "df[\"self_retirement_plan_amount\"] = df[\"a03300\"]\n",
    "df[\"self_health_ins_deduct_amt\"] = df[\"a03270\"]\n",
    "df[\"ira_payment_amt\"] = df[\"a03150\"]\n",
    "df[\"domestic_production_deduct_amt\"] = df[\"a03240\"]\n",
    "df[\"itemized_deduct_amt\"] = df[\"a04470\"]\n",
    "df[\"agi_itemized_return_amt\"] = df[\"a00101\"]\n",
    "df[\"st_local_income_tax_scheduled_amt\"] = df[\"a18425\"]\n",
    "df[\"state_gen_sales_tax_scheduled_amt\"] = df[\"a18450\"]\n",
    "df[\"real_estate_tax_sceduled_amt\"] = df[\"a18500\"]\n",
    "df[\"taxes_paid_amt\"] = df[\"a18300\"]\n",
    "df[\"mortgage_int_paid_amt\"] = df[\"a19300\"]\n",
    "df[\"contributions_sch_amt\"] = df[\"a19700\"]\n",
    "df[\"taxable_income_amt\"] = df[\"a04800\"]\n",
    "df[\"income_tax_before_credits\"] = df[\"a05800\"]\n",
    "df[\"tax_credit_amt\"] = df[\"a07100\"]\n",
    "df[\"for_tax_credit_amt\"] = df[\"a07300\"]\n",
    "df[\"dependent_cred_amt\"] = df[\"a07180\"]\n",
    "df[\"child_tax_cred_amt\"] = df[\"a07220\"]\n",
    "df[\"residential_energy_cred_amt\"] = df[\"a07260\"]\n",
    "df[\"self_emp_tax_amt\"] = df[\"a09400\"]\n",
    "df[\"premium_tax_cred_amt\"] = df[\"a85770\"]\n",
    "df[\"tax_payment_amt\"] = df[\"a10600\"]\n",
    "df[\"earned_income_credit_amt\"] = df[\"a59660\"]\n",
    "df[\"excess_income_credit_amt\"] = df[\"a59720\"]\n",
    "df[\"add_child_credit_amt\"] = df[\"a11070\"]\n",
    "df[\"net_premium_tax_cred_amt\"] = df[\"a11560\"]\n",
    "df[\"income_tax_amt\"] = df[\"a06500\"]\n",
    "df[\"tax_liability_amt\"] = df[\"a10300\"]\n",
    "df[\"net_investment_income_tax_amt\"] = df[\"a85300\"]\n",
    "df[\"num_of_returns\"] = df[\"n1\"]\n",
    "df[\"single_returns\"] = df[\"mars1\"]\n",
    "df[\"joint_returns\"] = df[\"mars2\"]\n",
    "df[\"head_of_household\"] = df[\"mars4\"]\n",
    "df[\"num_exemptions\"] = df[\"n2\"]\n",
    "df[\"dependents\"] = df[\"numdep\"]\n",
    "df[\"total_income\"] = df[\"a02650\"]\n",
    "df[\"professional_net_income_amt\"] = df[\"a00900\"]\n",
    "\n",
    "# Engineer income tiers\n",
    "df.loc[(df[\"agi_level\"] == \"$100k+\"), \"100K+_agi_earner\"]=1\n",
    "df.loc[(df[\"agi_level\"] == \"<$25k\"), \"below_25k_agi_earner\"]=1\n",
    "df.loc[(df[\"agi_level\"] == \"$25-50k\"), \"25_50k_agi_earner\"]=1\n",
    "df.loc[(df[\"agi_level\"] == \"$50-75k\"), \"50_75k_agi_earner\"]=1\n",
    "df.loc[(df[\"agi_level\"] == \"$75-100k\"), \"75_100k_agi_earner\"]=1\n",
    "# fill new cols with 0's if NaNs\n",
    "df[\"100K+_agi_earner\"].fillna(0, inplace=True)\n",
    "df[\"below_25k_agi_earner\"].fillna(0, inplace=True)\n",
    "df[\"25_50k_agi_earner\"].fillna(0, inplace=True)\n",
    "df[\"50_75k_agi_earner\"].fillna(0, inplace=True)\n",
    "df[\"75_100k_agi_earner\"].fillna(0, inplace=True)\n",
    "\n",
    "\n",
    "#Drop cols that have been renamed, or serve no purpose \n",
    "cols_to_drop = [\"prep\",\"total_vita\",\"vita\",\"tce\",\"a02650\",\"n02650\",\"a00100\",\"statefips\",\"numdep\",\"tce\",\n",
    "                 \"n02650\",\"n00200\",\"a00200\",\"n00300\",\"a00300\",\"a00600\",\"a00650\",\"n00650\",\"a00700\",\"n00700\",\"n01000\",\"a01000\",\n",
    "                 \"a01400\",\"n01400\",\"n01700\",\"a01700\",\"schf\",\"n02300\",\"a02300\",\"n02500\",\"a02500\",\"a26270\",\"n26270\",\"a02900\",\n",
    "                \"n02900\",\"a03220\",\"n03220\",\"a03300\",\"n03300\",\"a03270\",\"n03270\",\"a03150\",\"n03150\",\"a03210\",\"n03210\",\n",
    "               \"a03230\",\"n03230\",\"a03240\",\"n03240\",\"a04470\",\"n04470\",\"a00101\",\"a18425\",\"n18425\",\"a18450\",\"a18500\",\n",
    "                \"n18500\",\"a18300\",\"n18300\",\"a19300\",\"n19300\",\"a19700\",\"n19700\",\"a04800\",\"n04800\",\"a05800\",\"n05800\",\n",
    "               \"a09600\",\"n09600\",\"a05780\",\"n05780\",\"a07100\",\"n07100\",\"a07300\",\"n07300\",\"a07180\",\"n07180\",\"a07230\",\n",
    "                \"n07230\",\"a07240\",\"n07240\",\"a07220\",\"n07220\",\"a07260\",\"n07260\",\"a85775\",\"n85775\",\"a09750\",\"n09750\",\n",
    "               \"a10600\",\"n10600\",\"a59660\",\"n59660\",\"a59720\",\"n59720\",\"a11070\",\"n11070\",\"a10960\",\"n10960\",\"a11560\",\n",
    "               \"n11560\",\"a06500\",\"n06500\",\"a10300\",\"n10300\",\"a85530\",\"n85530\",\"a85300\",\"n85300\",\"a11901\",\"n11901\",\n",
    "               \"a11902\",\"n11902\",\"n1\",\"mars1\",\"mars2\",\"mars4\",\"n2\",\"vita_eic\",\"ral\",\"rac\",\"elderly\",\"n00600\",\"a00600\",\n",
    "               \"a00900\",\"n00900\",\"a17000\",\"n17000\",\"a18800\",\"n18800\",\"a19500\",\"n19500\",\"a19530\",\"n19530\",\"a19550\",\n",
    "                \"n19550\",\"a19570\",\"n19570\",\"a20800\",\"n20800\",\"a21020\",\"n21020\",\"n6\",\"n02100\",\"a02100\",\"n21060\",\n",
    "                \"a21060\",\"n09200\",\"a09200\",\"n11000\",\"a11000\",\"agi_04470\",\"agi_19700\",\"agi_18300\",\"n23900\",\"a23900\",\n",
    "               \"n18450\",\"nf5695\",\"af5695\",\"n11900gt0\",\"a11900gt0\",\"n11900lt0\",\"a11900lt0\",\"n00101\",\"n09400\",\"a09400\",\n",
    "               \"n85770\",\"num_of_exemptions\",\"a85770\",\"agi_level\",\"state\"]\n",
    "\n",
    "# Drop cols to prevent leakage\n",
    "cols_to_drop2 = [\"agi_itemized_return_amt\",\"taxable_income_amt\",\"income_tax_before_credits\",\"tax_payment_amt\",\"income_tax_amt\",\n",
    "                \"tax_liability_amt\",\"total_income\",\"total_tax\",\"taxes_paid_amt\",\"itemized_deduct_amt\",\n",
    "                 \"professional_net_income_amt\"]\n",
    "#Drop columns that have been renamed or removed\n",
    "df = df.drop(cols_to_drop, axis=1)\n",
    "#Drop columns to prevent leakage\n",
    "df = df.drop(cols_to_drop2, axis=1)\n",
    "#create a copy of df for testing purposes\n",
    "df1 = df.copy()\n",
    "#Drop columns with null values\n",
    "df = df.dropna()\n",
    "df1= df1.dropna()"
   ]
  },
  {
   "cell_type": "markdown",
   "id": "d97ba351",
   "metadata": {},
   "source": [
    "# Split Data"
   ]
  },
  {
   "cell_type": "code",
   "execution_count": 74,
   "id": "bea7e1a1",
   "metadata": {},
   "outputs": [
    {
     "name": "stdout",
     "output_type": "stream",
     "text": [
      "The shape of X is: (511326, 36)\n",
      "The shape of X1 is: (511326, 36)\n",
      "The shape of y is: (511326,)\n",
      "The shape of y1 is: (511326,)\n"
     ]
    }
   ],
   "source": [
    "#Define target variable \n",
    "target = \"adj_gross_income\"\n",
    "#Assign target variable to y variable\n",
    "y = df[target]\n",
    "y1= df1[target]\n",
    "\n",
    "#Drop target variable from X\n",
    "X = df.drop(columns=target)\n",
    "X1 = df1.drop(columns=target)\n",
    "\n",
    "#Confirm the shapes of the split\n",
    "print(\"The shape of X is:\", X.shape)\n",
    "print(\"The shape of X1 is:\", X1.shape)\n",
    "print(\"The shape of y is:\", y.shape)\n",
    "print(\"The shape of y1 is:\", y1.shape)"
   ]
  },
  {
   "cell_type": "code",
   "execution_count": 75,
   "id": "743e74c5",
   "metadata": {},
   "outputs": [
    {
     "name": "stdout",
     "output_type": "stream",
     "text": [
      "The shape of X_train is: (409060, 36)\n",
      "The shape of y_train is: (409060,)\n",
      "The shape of X1_train is: (409060, 36)\n",
      "The shape of y1_train is: (409060,)\n",
      "\n",
      "The shape of X_val is: (76700, 36)\n",
      "The shape of y_val is: (76700,)\n",
      "The shape of X1_val is: (76700, 36)\n",
      "The shape of y1_val is: (76700,)\n",
      "\n",
      "The shape of X_test is: (25566, 36)\n",
      "The shape of y_test is: (25566,)\n",
      "The shape of X1_test is: (25566, 36)\n",
      "The shape of y1_test is: (25566,)\n"
     ]
    }
   ],
   "source": [
    "#Assign 80% of the data to training set\n",
    "X_train, y_train = X[:-102266], y[:-102266]\n",
    "X1_train, y1_train = X1[:-102266], y1[:-102266]\n",
    "\n",
    "#Assign 15% of the data to validation set\n",
    "X_val, y_val = X[-102266:-25566], y[-102266:-25566]\n",
    "X1_val, y1_val = X1[-102266:-25566], y1[-102266:-25566]\n",
    "\n",
    "#Assign 5% of the data to test set\n",
    "X_test, y_test = X[-25566:],y[-25566:]\n",
    "X1_test, y1_test = X1[-25566:],y1[-25566:]\n",
    "\n",
    "#Check the shape of the split data\n",
    "print(\"The shape of X_train is:\", X_train.shape)\n",
    "print(\"The shape of y_train is:\", y_train.shape)\n",
    "print(\"The shape of X1_train is:\", X1_train.shape)\n",
    "print(\"The shape of y1_train is:\", y1_train.shape)\n",
    "print(\"\")\n",
    "print(\"The shape of X_val is:\", X_val.shape)\n",
    "print(\"The shape of y_val is:\", y_val.shape)\n",
    "print(\"The shape of X1_val is:\", X1_val.shape)\n",
    "print(\"The shape of y1_val is:\", y1_val.shape)\n",
    "print(\"\")\n",
    "print(\"The shape of X_test is:\", X_test.shape)\n",
    "print(\"The shape of y_test is:\", y_test.shape)\n",
    "print(\"The shape of X1_test is:\", X1_test.shape)\n",
    "print(\"The shape of y1_test is:\", y1_test.shape)"
   ]
  },
  {
   "cell_type": "markdown",
   "id": "6a773311",
   "metadata": {},
   "source": [
    "# Calculate Baseline MAE"
   ]
  },
  {
   "cell_type": "code",
   "execution_count": 76,
   "id": "b05a0ce8",
   "metadata": {},
   "outputs": [
    {
     "name": "stdout",
     "output_type": "stream",
     "text": [
      "The baseline mae is 69510.04981442634\n",
      "The baseline mae1 is 69510.04981442634\n"
     ]
    }
   ],
   "source": [
    "#calculate the mean of the adj income column for the training set\n",
    "y_mean = y_train.mean()\n",
    "y1_mean = y1_train.mean()\n",
    "\n",
    "#create a list of mean values the length of the y_train set\n",
    "y_pred = [y_mean] * len(y_train)\n",
    "y1_pred = [y1_mean] * len(y1_train)\n",
    "\n",
    "#calculate the mae for the training set\n",
    "baseline_mae = mean_absolute_error(y_train,y_pred)\n",
    "baseline_mae1 = mean_absolute_error(y1_train,y1_pred)\n",
    "\n",
    "print(\"The baseline mae is\",baseline_mae)\n",
    "print(\"The baseline mae1 is\",baseline_mae1)"
   ]
  },
  {
   "cell_type": "markdown",
   "id": "ff76045c",
   "metadata": {},
   "source": [
    "# Ridge Regression Model"
   ]
  },
  {
   "cell_type": "code",
   "execution_count": 77,
   "id": "4affc67c",
   "metadata": {},
   "outputs": [],
   "source": [
    "#Create a Ridge Regression model with an Ordinal Encoder\n",
    "model_r = make_pipeline(Ridge(random_state=42))\n",
    "\n",
    "#Fit the Ridge Regression model \n",
    "model_r.fit(X_train,y_train);"
   ]
  },
  {
   "cell_type": "code",
   "execution_count": 78,
   "id": "87ee24e8",
   "metadata": {},
   "outputs": [],
   "source": [
    "#The predicted y values of the training model\n",
    "y_pred_train_r = model_r.predict(X_train)\n",
    "#The training mae \n",
    "training_mae_r= mean_absolute_error(y_train,y_pred_train_r)\n",
    "\n",
    "#The predicted y values of the val model\n",
    "y_pred_val_r = model_r.predict(X_val)\n",
    "#The validation mae \n",
    "validation_mae_r= mean_absolute_error(y_val,y_pred_val_r)"
   ]
  },
  {
   "cell_type": "code",
   "execution_count": 79,
   "id": "4479af4f",
   "metadata": {},
   "outputs": [
    {
     "name": "stdout",
     "output_type": "stream",
     "text": [
      "The training MAE: 8638.263663845388\n",
      "The validation MAE: 7420.898773013675\n",
      "The training score is: 0.9838369549948777\n",
      "The validation score is: 0.9845153256969204\n"
     ]
    }
   ],
   "source": [
    "print(\"The training MAE:\", training_mae_r)\n",
    "print(\"The validation MAE:\", validation_mae_r)\n",
    "print(\"The training score is:\", model_r.score(X_train,y_train))\n",
    "print(\"The validation score is:\", model_r.score(X_val, y_val))"
   ]
  },
  {
   "cell_type": "markdown",
   "id": "7857558e",
   "metadata": {},
   "source": [
    "# Tune Ridge Model"
   ]
  },
  {
   "cell_type": "code",
   "execution_count": 80,
   "id": "0a5aec2a",
   "metadata": {},
   "outputs": [
    {
     "name": "stdout",
     "output_type": "stream",
     "text": [
      "Fitting 5 folds for each of 10 candidates, totalling 50 fits\n"
     ]
    },
    {
     "data": {
      "text/plain": [
       "RandomizedSearchCV(cv=5,\n",
       "                   estimator=Pipeline(steps=[('ridge',\n",
       "                                              Ridge(random_state=42))]),\n",
       "                   n_jobs=-1,\n",
       "                   param_distributions={'ridge__alpha': range(1, 10),\n",
       "                                        'ridge__max_iter': range(100, 1000, 100)},\n",
       "                   verbose=1)"
      ]
     },
     "execution_count": 80,
     "metadata": {},
     "output_type": "execute_result"
    }
   ],
   "source": [
    "#Create a dictionary for hypertuning parameters\n",
    "param_grid = {'ridge__alpha':range(1, 10,1),\n",
    "             'ridge__max_iter':range(100,1000,100)}\n",
    "#Use RandomizedSearch to test hyperparamaters\n",
    "model_ridge = RandomizedSearchCV(model_r,\n",
    "                          param_distributions = param_grid,\n",
    "                          n_jobs=-1,\n",
    "                          cv=5,\n",
    "                          verbose=1)\n",
    "#Fit tuned model for testing\n",
    "model_ridge.fit(X_train, y_train)"
   ]
  },
  {
   "cell_type": "code",
   "execution_count": 81,
   "id": "1c06a898",
   "metadata": {},
   "outputs": [
    {
     "name": "stdout",
     "output_type": "stream",
     "text": [
      "{'ridge__max_iter': 900, 'ridge__alpha': 9}\n"
     ]
    }
   ],
   "source": [
    "#Confirm best parameters\n",
    "print(model_ridge.best_params_)\n",
    "#Assign optimal model to variable\n",
    "model_r = model_ridge.best_estimator_"
   ]
  },
  {
   "cell_type": "code",
   "execution_count": 82,
   "id": "a7ca6829",
   "metadata": {},
   "outputs": [
    {
     "name": "stdout",
     "output_type": "stream",
     "text": [
      "The test MAE: 7843.453927216169\n",
      "The test score is: 0.9826067746317101\n"
     ]
    }
   ],
   "source": [
    "#Test model\n",
    "print(\"The test MAE:\", mean_absolute_error(y_test, model_r.predict(X_test)))\n",
    "print(\"The test score is:\", model_r.score(X_test, y_test))"
   ]
  },
  {
   "cell_type": "code",
   "execution_count": 83,
   "id": "d85d7da7",
   "metadata": {},
   "outputs": [
    {
     "data": {
      "image/png": "[encoded data removed]",
      "text/plain": [
       "<Figure size 432x288 with 1 Axes>"
      ]
     },
     "metadata": {
      "needs_background": "light"
     },
     "output_type": "display_data"
    }
   ],
   "source": [
    "#Visualize the predictions and True values\n",
    "ax = plt.gca()\n",
    "#Create a scatter of predictions\n",
    "ax.scatter(y_test, model_r.predict(X_test), color=\"b\", label=(\"Predicted Y values\"))\n",
    "#Create a scatter of True values\n",
    "ax.scatter(y_test, y_test, color=\"r\", label=(\"True Y values\"))\n",
    "plt.legend()\n",
    "plt.show()"
   ]
  },
  {
   "cell_type": "code",
   "execution_count": 84,
   "id": "a2d9104e",
   "metadata": {},
   "outputs": [
    {
     "data": {
      "text/plain": [
       "(25566,)"
      ]
     },
     "execution_count": 84,
     "metadata": {},
     "output_type": "execute_result"
    }
   ],
   "source": [
    "model_r.predict(X_test).shape"
   ]
  },
  {
   "cell_type": "markdown",
   "id": "67564119",
   "metadata": {},
   "source": [
    "# Visualize Ridge Model"
   ]
  },
  {
   "cell_type": "code",
   "execution_count": 85,
   "id": "b1363a26",
   "metadata": {},
   "outputs": [],
   "source": [
    "#Validate model by testing permutation importance\n",
    "perm_imp = permutation_importance(model_r,\n",
    "                                 X_val,\n",
    "                                 y_val,\n",
    "                                 n_jobs=-1,\n",
    "                                 random_state=42)"
   ]
  },
  {
   "cell_type": "code",
   "execution_count": 86,
   "id": "f5a6956b",
   "metadata": {},
   "outputs": [
    {
     "data": {
      "text/html": [
       "<div>\n",
       "<style scoped>\n",
       "    .dataframe tbody tr th:only-of-type {\n",
       "        vertical-align: middle;\n",
       "    }\n",
       "\n",
       "    .dataframe tbody tr th {\n",
       "        vertical-align: top;\n",
       "    }\n",
       "\n",
       "    .dataframe thead th {\n",
       "        text-align: right;\n",
       "    }\n",
       "</style>\n",
       "<table border=\"1\" class=\"dataframe\">\n",
       "  <thead>\n",
       "    <tr style=\"text-align: right;\">\n",
       "      <th></th>\n",
       "      <th>imp_mean</th>\n",
       "      <th>imp_std</th>\n",
       "    </tr>\n",
       "  </thead>\n",
       "  <tbody>\n",
       "    <tr>\n",
       "      <th>zipcode</th>\n",
       "      <td>-0.000005</td>\n",
       "      <td>4.496783e-06</td>\n",
       "    </tr>\n",
       "    <tr>\n",
       "      <th>25_50k_agi_earner</th>\n",
       "      <td>-0.000001</td>\n",
       "      <td>3.617679e-06</td>\n",
       "    </tr>\n",
       "    <tr>\n",
       "      <th>50_75k_agi_earner</th>\n",
       "      <td>0.000002</td>\n",
       "      <td>4.246331e-07</td>\n",
       "    </tr>\n",
       "    <tr>\n",
       "      <th>self_emp_tax_amt</th>\n",
       "      <td>0.000042</td>\n",
       "      <td>3.105276e-06</td>\n",
       "    </tr>\n",
       "    <tr>\n",
       "      <th>75_100k_agi_earner</th>\n",
       "      <td>0.000054</td>\n",
       "      <td>3.560369e-06</td>\n",
       "    </tr>\n",
       "    <tr>\n",
       "      <th>100K+_agi_earner</th>\n",
       "      <td>0.000080</td>\n",
       "      <td>4.800945e-06</td>\n",
       "    </tr>\n",
       "    <tr>\n",
       "      <th>dependent_cred_amt</th>\n",
       "      <td>0.000154</td>\n",
       "      <td>3.749001e-06</td>\n",
       "    </tr>\n",
       "    <tr>\n",
       "      <th>below_25k_agi_earner</th>\n",
       "      <td>0.000174</td>\n",
       "      <td>6.087152e-06</td>\n",
       "    </tr>\n",
       "    <tr>\n",
       "      <th>residential_energy_cred_amt</th>\n",
       "      <td>0.000279</td>\n",
       "      <td>8.191714e-06</td>\n",
       "    </tr>\n",
       "    <tr>\n",
       "      <th>contributions_sch_amt</th>\n",
       "      <td>0.000456</td>\n",
       "      <td>9.749970e-06</td>\n",
       "    </tr>\n",
       "    <tr>\n",
       "      <th>net_investment_income_tax_amt</th>\n",
       "      <td>0.000484</td>\n",
       "      <td>1.164510e-05</td>\n",
       "    </tr>\n",
       "    <tr>\n",
       "      <th>premium_tax_cred_amt</th>\n",
       "      <td>0.000539</td>\n",
       "      <td>1.316855e-05</td>\n",
       "    </tr>\n",
       "    <tr>\n",
       "      <th>net_premium_tax_cred_amt</th>\n",
       "      <td>0.001799</td>\n",
       "      <td>2.310893e-05</td>\n",
       "    </tr>\n",
       "    <tr>\n",
       "      <th>ira_payment_amt</th>\n",
       "      <td>0.003508</td>\n",
       "      <td>1.179249e-05</td>\n",
       "    </tr>\n",
       "    <tr>\n",
       "      <th>domestic_production_deduct_amt</th>\n",
       "      <td>0.004098</td>\n",
       "      <td>2.841466e-05</td>\n",
       "    </tr>\n",
       "    <tr>\n",
       "      <th>head_of_household</th>\n",
       "      <td>0.005468</td>\n",
       "      <td>6.157557e-05</td>\n",
       "    </tr>\n",
       "    <tr>\n",
       "      <th>real_estate_tax_sceduled_amt</th>\n",
       "      <td>0.006056</td>\n",
       "      <td>1.784493e-05</td>\n",
       "    </tr>\n",
       "    <tr>\n",
       "      <th>Ord_dividends_amt</th>\n",
       "      <td>0.006316</td>\n",
       "      <td>3.493890e-05</td>\n",
       "    </tr>\n",
       "    <tr>\n",
       "      <th>mortgage_int_paid_amt</th>\n",
       "      <td>0.006638</td>\n",
       "      <td>3.345849e-05</td>\n",
       "    </tr>\n",
       "    <tr>\n",
       "      <th>num_of_returns_w_taxable_int</th>\n",
       "      <td>0.007545</td>\n",
       "      <td>3.833018e-05</td>\n",
       "    </tr>\n",
       "    <tr>\n",
       "      <th>dependents</th>\n",
       "      <td>0.008943</td>\n",
       "      <td>8.824816e-05</td>\n",
       "    </tr>\n",
       "    <tr>\n",
       "      <th>state_gen_sales_tax_scheduled_amt</th>\n",
       "      <td>0.009795</td>\n",
       "      <td>5.214906e-05</td>\n",
       "    </tr>\n",
       "    <tr>\n",
       "      <th>num_of_returns</th>\n",
       "      <td>0.013876</td>\n",
       "      <td>9.550819e-05</td>\n",
       "    </tr>\n",
       "    <tr>\n",
       "      <th>self_health_ins_deduct_amt</th>\n",
       "      <td>0.014722</td>\n",
       "      <td>4.144489e-05</td>\n",
       "    </tr>\n",
       "    <tr>\n",
       "      <th>excess_income_credit_amt</th>\n",
       "      <td>0.017121</td>\n",
       "      <td>9.706121e-05</td>\n",
       "    </tr>\n",
       "    <tr>\n",
       "      <th>self_retirement_plan_amount</th>\n",
       "      <td>0.021690</td>\n",
       "      <td>5.098662e-05</td>\n",
       "    </tr>\n",
       "    <tr>\n",
       "      <th>for_tax_credit_amt</th>\n",
       "      <td>0.027252</td>\n",
       "      <td>4.990845e-05</td>\n",
       "    </tr>\n",
       "    <tr>\n",
       "      <th>child_tax_cred_amt</th>\n",
       "      <td>0.039067</td>\n",
       "      <td>1.523325e-04</td>\n",
       "    </tr>\n",
       "    <tr>\n",
       "      <th>add_child_credit_amt</th>\n",
       "      <td>0.042340</td>\n",
       "      <td>3.186659e-04</td>\n",
       "    </tr>\n",
       "    <tr>\n",
       "      <th>earned_income_credit_amt</th>\n",
       "      <td>0.051002</td>\n",
       "      <td>3.017682e-04</td>\n",
       "    </tr>\n",
       "    <tr>\n",
       "      <th>net_cap_gain_amt</th>\n",
       "      <td>0.058409</td>\n",
       "      <td>1.357190e-04</td>\n",
       "    </tr>\n",
       "    <tr>\n",
       "      <th>joint_returns</th>\n",
       "      <td>0.060005</td>\n",
       "      <td>8.557354e-05</td>\n",
       "    </tr>\n",
       "    <tr>\n",
       "      <th>tax_credit_amt</th>\n",
       "      <td>0.079866</td>\n",
       "      <td>1.672396e-04</td>\n",
       "    </tr>\n",
       "    <tr>\n",
       "      <th>st_local_income_tax_scheduled_amt</th>\n",
       "      <td>0.092664</td>\n",
       "      <td>1.510624e-04</td>\n",
       "    </tr>\n",
       "    <tr>\n",
       "      <th>single_returns</th>\n",
       "      <td>0.094735</td>\n",
       "      <td>2.835636e-04</td>\n",
       "    </tr>\n",
       "    <tr>\n",
       "      <th>num_exemptions</th>\n",
       "      <td>1.227393</td>\n",
       "      <td>5.346182e-03</td>\n",
       "    </tr>\n",
       "  </tbody>\n",
       "</table>\n",
       "</div>"
      ],
      "text/plain": [
       "                                   imp_mean       imp_std\n",
       "zipcode                           -0.000005  4.496783e-06\n",
       "25_50k_agi_earner                 -0.000001  3.617679e-06\n",
       "50_75k_agi_earner                  0.000002  4.246331e-07\n",
       "self_emp_tax_amt                   0.000042  3.105276e-06\n",
       "75_100k_agi_earner                 0.000054  3.560369e-06\n",
       "100K+_agi_earner                   0.000080  4.800945e-06\n",
       "dependent_cred_amt                 0.000154  3.749001e-06\n",
       "below_25k_agi_earner               0.000174  6.087152e-06\n",
       "residential_energy_cred_amt        0.000279  8.191714e-06\n",
       "contributions_sch_amt              0.000456  9.749970e-06\n",
       "net_investment_income_tax_amt      0.000484  1.164510e-05\n",
       "premium_tax_cred_amt               0.000539  1.316855e-05\n",
       "net_premium_tax_cred_amt           0.001799  2.310893e-05\n",
       "ira_payment_amt                    0.003508  1.179249e-05\n",
       "domestic_production_deduct_amt     0.004098  2.841466e-05\n",
       "head_of_household                  0.005468  6.157557e-05\n",
       "real_estate_tax_sceduled_amt       0.006056  1.784493e-05\n",
       "Ord_dividends_amt                  0.006316  3.493890e-05\n",
       "mortgage_int_paid_amt              0.006638  3.345849e-05\n",
       "num_of_returns_w_taxable_int       0.007545  3.833018e-05\n",
       "dependents                         0.008943  8.824816e-05\n",
       "state_gen_sales_tax_scheduled_amt  0.009795  5.214906e-05\n",
       "num_of_returns                     0.013876  9.550819e-05\n",
       "self_health_ins_deduct_amt         0.014722  4.144489e-05\n",
       "excess_income_credit_amt           0.017121  9.706121e-05\n",
       "self_retirement_plan_amount        0.021690  5.098662e-05\n",
       "for_tax_credit_amt                 0.027252  4.990845e-05\n",
       "child_tax_cred_amt                 0.039067  1.523325e-04\n",
       "add_child_credit_amt               0.042340  3.186659e-04\n",
       "earned_income_credit_amt           0.051002  3.017682e-04\n",
       "net_cap_gain_amt                   0.058409  1.357190e-04\n",
       "joint_returns                      0.060005  8.557354e-05\n",
       "tax_credit_amt                     0.079866  1.672396e-04\n",
       "st_local_income_tax_scheduled_amt  0.092664  1.510624e-04\n",
       "single_returns                     0.094735  2.835636e-04\n",
       "num_exemptions                     1.227393  5.346182e-03"
      ]
     },
     "execution_count": 86,
     "metadata": {},
     "output_type": "execute_result"
    }
   ],
   "source": [
    "#Create dictionary to transfer to df\n",
    "data = {\"imp_mean\": perm_imp[\"importances_mean\"],\n",
    "       \"imp_std\": perm_imp[\"importances_std\"]}\n",
    "#Create df for easy viewing \n",
    "importances= pd.DataFrame(data, index=X_val.columns).sort_values(by=\"imp_mean\")\n",
    "importances"
   ]
  },
  {
   "cell_type": "code",
   "execution_count": 87,
   "id": "30be6777",
   "metadata": {},
   "outputs": [
    {
     "data": {
      "text/plain": [
       "Text(0.5, 1.0, 'The Most Importanct Features to Predict')"
      ]
     },
     "execution_count": 87,
     "metadata": {},
     "output_type": "execute_result"
    },
    {
     "data": {
      "image/png": "[encoded data removed]",
      "text/plain": [
       "<Figure size 432x288 with 1 Axes>"
      ]
     },
     "metadata": {
      "needs_background": "light"
     },
     "output_type": "display_data"
    }
   ],
   "source": [
    "#Visualize feature importances \n",
    "importances[\"imp_mean\"].tail(10).plot(kind=\"barh\")\n",
    "plt.xlabel(\"Feature Importance Means\")\n",
    "plt.title(\"The Most Importanct Features to Predict\")"
   ]
  },
  {
   "cell_type": "markdown",
   "id": "a11d1c6f",
   "metadata": {},
   "source": [
    "# RandomForestRegressor Model\n",
    "\n",
    "\n"
   ]
  },
  {
   "cell_type": "code",
   "execution_count": 88,
   "id": "19107307",
   "metadata": {},
   "outputs": [],
   "source": [
    "#Create tree based model\n",
    "model_rf = make_pipeline(RandomForestRegressor(random_state=42, n_jobs=-1)\n",
    ")\n",
    "#Fit randomforest model\n",
    "model_rf.fit(X1_train, y1_train);"
   ]
  },
  {
   "cell_type": "code",
   "execution_count": 89,
   "id": "cdab4d97",
   "metadata": {},
   "outputs": [],
   "source": [
    "#The predicted y values of the training model\n",
    "y_pred_train_rf = model_rf.predict(X1_train)\n",
    "#The training mae \n",
    "training_mae_rf = mean_absolute_error(y1_train,y_pred_train_rf)\n",
    "\n",
    "#The predicted y values of the val model\n",
    "y_pred_val_rf = model_rf.predict(X1_val)\n",
    "#The validation mae \n",
    "validation_mae_rf = mean_absolute_error(y1_val,y_pred_val_rf)"
   ]
  },
  {
   "cell_type": "code",
   "execution_count": 90,
   "id": "f56d100d",
   "metadata": {},
   "outputs": [
    {
     "name": "stdout",
     "output_type": "stream",
     "text": [
      "The training MAE: 835.478250513566\n",
      "The validation MAE: 1817.434598157238\n",
      "The training score is: 0.9988815413192119\n",
      "The validation score is: 0.9916316364127765\n"
     ]
    }
   ],
   "source": [
    "#Calculate MAE/Score for Tree-based Model\n",
    "print(\"The training MAE:\", training_mae_rf)\n",
    "print(\"The validation MAE:\", validation_mae_rf)\n",
    "print(\"The training score is:\", model_rf.score(X1_train,y1_train))\n",
    "print(\"The validation score is:\", model_rf.score(X1_val, y1_val))"
   ]
  },
  {
   "cell_type": "markdown",
   "id": "688646eb",
   "metadata": {},
   "source": [
    "# Tune RandomForest Model "
   ]
  },
  {
   "cell_type": "code",
   "execution_count": 91,
   "id": "f9f4c291",
   "metadata": {},
   "outputs": [
    {
     "name": "stdout",
     "output_type": "stream",
     "text": [
      "Fitting 3 folds for each of 8 candidates, totalling 24 fits\n"
     ]
    },
    {
     "data": {
      "text/plain": [
       "RandomizedSearchCV(cv=3,\n",
       "                   estimator=Pipeline(steps=[('randomforestregressor',\n",
       "                                              RandomForestRegressor(n_jobs=-1,\n",
       "                                                                    random_state=42))]),\n",
       "                   n_jobs=-1,\n",
       "                   param_distributions={'randomforestregressor__max_depth': range(10, 20, 5),\n",
       "                                        'randomforestregressor__n_estimators': range(60, 100, 10)},\n",
       "                   verbose=1)"
      ]
     },
     "execution_count": 91,
     "metadata": {},
     "output_type": "execute_result"
    }
   ],
   "source": [
    "#Create Dictionary for hyperparameter testing \n",
    "param_grid_2 = {'randomforestregressor__n_estimators':range(60,100,10),\n",
    "                'randomforestregressor__max_depth':range(10,20,5)}\n",
    "\n",
    "#Utilize RandomizedSearch for hyperparameter tuning\n",
    "model_randomforest = RandomizedSearchCV(model_rf,\n",
    "                          param_distributions = param_grid_2,\n",
    "                          n_jobs=-1,\n",
    "                          cv=3,\n",
    "                          verbose=1)\n",
    "#Fit Model for testing\n",
    "model_randomforest.fit(X1_train, y1_train)"
   ]
  },
  {
   "cell_type": "code",
   "execution_count": 92,
   "id": "a5099bd7",
   "metadata": {},
   "outputs": [
    {
     "name": "stdout",
     "output_type": "stream",
     "text": [
      "{'randomforestregressor__n_estimators': 90, 'randomforestregressor__max_depth': 15}\n"
     ]
    }
   ],
   "source": [
    "#Confirm optimal parameters\n",
    "print(model_randomforest.best_params_)\n",
    "#Assign optimal model\n",
    "model_rf = model_randomforest.best_estimator_"
   ]
  },
  {
   "cell_type": "code",
   "execution_count": 93,
   "id": "63a6f862",
   "metadata": {},
   "outputs": [
    {
     "name": "stdout",
     "output_type": "stream",
     "text": [
      "The test MAE: 2527.511164474151\n",
      "The test score is: 0.9934607344578875\n"
     ]
    }
   ],
   "source": [
    "#Test model on test data\n",
    "print(\"The test MAE:\", mean_absolute_error(y1_test, model_rf.predict(X1_test)))\n",
    "print(\"The test score is:\", model_rf.score(X1_test, y1_test))"
   ]
  },
  {
   "cell_type": "markdown",
   "id": "21abb752",
   "metadata": {},
   "source": [
    "# Visualize RandomForest Model\n"
   ]
  },
  {
   "cell_type": "code",
   "execution_count": 94,
   "id": "4e8924d1",
   "metadata": {},
   "outputs": [
    {
     "data": {
      "text/plain": [
       "below_25k_agi_earner                 0.000005\n",
       "net_premium_tax_cred_amt             0.000007\n",
       "premium_tax_cred_amt                 0.000012\n",
       "25_50k_agi_earner                    0.000020\n",
       "50_75k_agi_earner                    0.000026\n",
       "excess_income_credit_amt             0.000034\n",
       "earned_income_credit_amt             0.000046\n",
       "75_100k_agi_earner                   0.000047\n",
       "add_child_credit_amt                 0.000156\n",
       "child_tax_cred_amt                   0.000167\n",
       "residential_energy_cred_amt          0.000295\n",
       "dependent_cred_amt                   0.000505\n",
       "domestic_production_deduct_amt       0.000507\n",
       "100K+_agi_earner                     0.000519\n",
       "zipcode                              0.000583\n",
       "state_gen_sales_tax_scheduled_amt    0.000660\n",
       "dependents                           0.000762\n",
       "head_of_household                    0.000764\n",
       "ira_payment_amt                      0.000780\n",
       "single_returns                       0.000895\n",
       "self_retirement_plan_amount          0.001343\n",
       "num_exemptions                       0.001479\n",
       "self_health_ins_deduct_amt           0.001481\n",
       "for_tax_credit_amt                   0.002358\n",
       "Ord_dividends_amt                    0.002444\n",
       "num_of_returns                       0.007336\n",
       "tax_credit_amt                       0.008389\n",
       "num_of_returns_w_taxable_int         0.009849\n",
       "joint_returns                        0.022518\n",
       "self_emp_tax_amt                     0.042605\n",
       "st_local_income_tax_scheduled_amt    0.043690\n",
       "mortgage_int_paid_amt                0.043953\n",
       "real_estate_tax_sceduled_amt         0.048737\n",
       "contributions_sch_amt                0.192691\n",
       "net_investment_income_tax_amt        0.210465\n",
       "net_cap_gain_amt                     0.353873\n",
       "dtype: float64"
      ]
     },
     "execution_count": 94,
     "metadata": {},
     "output_type": "execute_result"
    }
   ],
   "source": [
    "#Grab feature importances\n",
    "importances = model_rf.named_steps[\"randomforestregressor\"].feature_importances_\n",
    "features = X1_train.columns\n",
    "feat_imp = pd.Series(importances, index = features).sort_values()\n",
    "feat_imp"
   ]
  },
  {
   "cell_type": "code",
   "execution_count": 95,
   "id": "a33731cb",
   "metadata": {},
   "outputs": [
    {
     "data": {
      "text/plain": [
       "Text(0.5, 1.0, 'The most important features to predict')"
      ]
     },
     "execution_count": 95,
     "metadata": {},
     "output_type": "execute_result"
    },
    {
     "data": {
      "image/png": "[encoded data removed]",
      "text/plain": [
       "<Figure size 432x288 with 1 Axes>"
      ]
     },
     "metadata": {
      "needs_background": "light"
     },
     "output_type": "display_data"
    }
   ],
   "source": [
    "#Visualize Feature importances\n",
    "feat_imp.tail(10).plot(kind=\"barh\")\n",
    "plt.xlabel(\"The reduction in Gini Impurity\")\n",
    "plt.title(\"The most important features to predict\")"
   ]
  },
  {
   "cell_type": "code",
   "execution_count": 96,
   "id": "bf3cdae6",
   "metadata": {},
   "outputs": [
    {
     "data": {
      "image/png": "[encoded data removed]",
      "text/plain": [
       "<Figure size 432x288 with 1 Axes>"
      ]
     },
     "metadata": {
      "needs_background": "light"
     },
     "output_type": "display_data"
    }
   ],
   "source": [
    "#Visualize the predictions and True values\n",
    "ax = plt.gca()\n",
    "#Create a scatter of predictions\n",
    "ax.scatter(y_test, model_rf.predict(X_test), color=\"b\", label=(\"Predicted Y values\"))\n",
    "#Create a scatter of True values\n",
    "ax.scatter(y_test, y_test, color=\"r\", label=(\"True Y values\"))\n",
    "plt.legend()\n",
    "plt.show()"
   ]
  },
  {
   "cell_type": "code",
   "execution_count": null,
   "id": "556785e5",
   "metadata": {},
   "outputs": [],
   "source": []
  }
 ],
 "metadata": {
  "kernelspec": {
   "display_name": "Python 3",
   "language": "python",
   "name": "python3"
  },
  "language_info": {
   "codemirror_mode": {
    "name": "ipython",
    "version": 3
   },
   "file_extension": ".py",
   "mimetype": "text/x-python",
   "name": "python",
   "nbconvert_exporter": "python",
   "pygments_lexer": "ipython3",
   "version": "3.8.8"
  }
 },
 "nbformat": 4,
 "nbformat_minor": 5
}

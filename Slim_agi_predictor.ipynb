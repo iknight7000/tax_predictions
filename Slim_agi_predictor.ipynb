{
 "cells": [
  {
   "cell_type": "markdown",
   "id": "dc97d279",
   "metadata": {},
   "source": [
    "# Pip install "
   ]
  },
  {
   "cell_type": "code",
   "execution_count": 45,
   "id": "2a88d11e",
   "metadata": {},
   "outputs": [],
   "source": [
    "# conda install -c conda-forge xgboost\n",
    "# conda install -c conda-forge shap\n",
    "# conda install -c conda-forge pdpbox"
   ]
  },
  {
   "cell_type": "markdown",
   "id": "3f8921ed",
   "metadata": {},
   "source": [
    "# Import Necessary Libraries"
   ]
  },
  {
   "cell_type": "code",
   "execution_count": 46,
   "id": "bde3a4e5",
   "metadata": {},
   "outputs": [],
   "source": [
    "from sklearn.model_selection import train_test_split\n",
    "from sklearn.pipeline import make_pipeline\n",
    "from category_encoders import OneHotEncoder, OrdinalEncoder\n",
    "from sklearn.preprocessing import StandardScaler\n",
    "from sklearn.impute import SimpleImputer\n",
    "from sklearn.metrics import accuracy_score\n",
    "from sklearn.tree import DecisionTreeClassifier, plot_tree\n",
    "import matplotlib.pyplot as plt\n",
    "from matplotlib.pyplot import figure\n",
    "import pandas as pd\n",
    "import numpy as np\n",
    "from sklearn.ensemble import RandomForestRegressor\n",
    "import scipy.cluster.hierarchy as sch  \n",
    "import numpy as np\n",
    "from sklearn.linear_model import Ridge\n",
    "from sklearn.linear_model import LinearRegression\n",
    "from sklearn.inspection import permutation_importance\n",
    "from sklearn.metrics import mean_absolute_error, mean_squared_error,r2_score\n",
    "from pdpbox.pdp import pdp_isolate, pdp_plot, pdp_interact, pdp_interact_plot\n",
    "from xgboost import XGBRegressor\n",
    "from sklearn.model_selection import cross_val_score, validation_curve\n",
    "from sklearn.model_selection import GridSearchCV, RandomizedSearchCV"
   ]
  },
  {
   "cell_type": "markdown",
   "id": "b1608249",
   "metadata": {},
   "source": [
    "# Import/Clean Dataset"
   ]
  },
  {
   "cell_type": "code",
   "execution_count": 47,
   "id": "966ca847",
   "metadata": {},
   "outputs": [],
   "source": [
    "#Read in the dataset and index on the year\n",
    "df = pd.read_csv(\"Research\\Individual_tax_by_zip\\irs_1040_13yrs.csv\", \n",
    "                 index_col = \"year\")\n",
    "\n",
    "#Rename cols \n",
    "df[\"num_exemptions\"] = df[\"n2\"]\n",
    "df[\"st_local_income_tax_scheduled_amt\"] = df[\"a18425\"]\n",
    "df[\"single_returns\"] = df[\"mars1\"]\n",
    "df[\"tax_credit_amt\"] = df[\"a07100\"]\n",
    "df[\"net_cap_gain_amt\"] = df[\"a01000\"]\n",
    "df[\"joint_returns\"] = df[\"mars2\"]\n",
    "df[\"earned_income_credit_amt\"] = df[\"a59660\"]\n",
    "df[\"add_child_credit_amt\"] = df[\"a11070\"]\n",
    "df[\"child_tax_cred_amt\"] = df[\"a07220\"]\n",
    "df[\"for_tax_credit_amt\"] = df[\"a07300\"]\n",
    "df[\"adj_gross_income\"] = df[\"a00100\"]\n",
    "df[\"net_investment_income_tax_amt\"] = df[\"a85300\"]\n",
    "df[\"contributions_sch_amt\"] = df[\"a19700\"]\n",
    "df[\"real_estate_tax_sceduled_amt\"] = df[\"a18500\"]\n",
    "df[\"mortgage_int_paid_amt\"] = df[\"a19300\"]\n",
    "df[\"self_emp_tax_amt\"] = df[\"a09400\"]\n",
    "df[\"num_of_returns_w_taxable_int\"] = df[\"n00300\"]\n",
    "\n",
    "#Create a copy of the original df for Tree-Based Models\n",
    "df1 = df.copy()\n",
    "\n",
    "#Keep the most influential features for regression models\n",
    "df = df.drop(df.columns.difference([\"num_exemptions\",\"st_local_income_tax_scheduled_amt\",\"single_returns\",\n",
    "      \"tax_credit_amt\",\"net_cap_gain_amt\",\"joint_returns\",\"earned_income_credit_amt\",\n",
    "      \"add_child_credit_amt\",\"child_tax_cred_amt\",\"for_tax_credit_amt\",\"adj_gross_income\"]),1)\n",
    "\n",
    "#Keep the most influential features for tree based model            \n",
    "df1 = df1.drop(df1.columns.difference([\"net_cap_gain_amt\",\"net_investment_income_tax_amt\",\"contributions_sch_amt\",\n",
    "       \"real_estate_tax_sceduled_amt\",\"st_local_income_tax_scheduled_amt\",\"mortgage_int_paid_amt\",\n",
    "       \"self_emp_tax_amt\",\"joint_returns\",\"num_of_returns_w_taxable_int\",\"adj_gross_income\"]),1)\n",
    "\n",
    "#Drop all NaNs from dfs\n",
    "df = df.dropna()\n",
    "df1 = df1.dropna()\n"
   ]
  },
  {
   "cell_type": "code",
   "execution_count": 48,
   "id": "e1f6c85d",
   "metadata": {},
   "outputs": [
    {
     "name": "stdout",
     "output_type": "stream",
     "text": [
      "(676576, 11)\n"
     ]
    },
    {
     "data": {
      "text/html": [
       "<div>\n",
       "<style scoped>\n",
       "    .dataframe tbody tr th:only-of-type {\n",
       "        vertical-align: middle;\n",
       "    }\n",
       "\n",
       "    .dataframe tbody tr th {\n",
       "        vertical-align: top;\n",
       "    }\n",
       "\n",
       "    .dataframe thead th {\n",
       "        text-align: right;\n",
       "    }\n",
       "</style>\n",
       "<table border=\"1\" class=\"dataframe\">\n",
       "  <thead>\n",
       "    <tr style=\"text-align: right;\">\n",
       "      <th></th>\n",
       "      <th>num_exemptions</th>\n",
       "      <th>st_local_income_tax_scheduled_amt</th>\n",
       "      <th>single_returns</th>\n",
       "      <th>tax_credit_amt</th>\n",
       "      <th>net_cap_gain_amt</th>\n",
       "      <th>joint_returns</th>\n",
       "      <th>earned_income_credit_amt</th>\n",
       "      <th>add_child_credit_amt</th>\n",
       "      <th>child_tax_cred_amt</th>\n",
       "      <th>for_tax_credit_amt</th>\n",
       "      <th>adj_gross_income</th>\n",
       "    </tr>\n",
       "    <tr>\n",
       "      <th>year</th>\n",
       "      <th></th>\n",
       "      <th></th>\n",
       "      <th></th>\n",
       "      <th></th>\n",
       "      <th></th>\n",
       "      <th></th>\n",
       "      <th></th>\n",
       "      <th></th>\n",
       "      <th></th>\n",
       "      <th></th>\n",
       "      <th></th>\n",
       "    </tr>\n",
       "  </thead>\n",
       "  <tbody>\n",
       "    <tr>\n",
       "      <th>2013</th>\n",
       "      <td>4250.0</td>\n",
       "      <td>62.0</td>\n",
       "      <td>2510.0</td>\n",
       "      <td>160.0</td>\n",
       "      <td>169.0</td>\n",
       "      <td>190.0</td>\n",
       "      <td>2129.0</td>\n",
       "      <td>577.0</td>\n",
       "      <td>32.0</td>\n",
       "      <td>1.0</td>\n",
       "      <td>39072.0</td>\n",
       "    </tr>\n",
       "    <tr>\n",
       "      <th>2013</th>\n",
       "      <td>3340.0</td>\n",
       "      <td>16.0</td>\n",
       "      <td>1520.0</td>\n",
       "      <td>607.0</td>\n",
       "      <td>522.0</td>\n",
       "      <td>280.0</td>\n",
       "      <td>627.0</td>\n",
       "      <td>351.0</td>\n",
       "      <td>347.0</td>\n",
       "      <td>2.0</td>\n",
       "      <td>79567.0</td>\n",
       "    </tr>\n",
       "    <tr>\n",
       "      <th>2013</th>\n",
       "      <td>1840.0</td>\n",
       "      <td>38.0</td>\n",
       "      <td>740.0</td>\n",
       "      <td>380.0</td>\n",
       "      <td>857.0</td>\n",
       "      <td>290.0</td>\n",
       "      <td>0.0</td>\n",
       "      <td>36.0</td>\n",
       "      <td>256.0</td>\n",
       "      <td>5.0</td>\n",
       "      <td>70652.0</td>\n",
       "    </tr>\n",
       "    <tr>\n",
       "      <th>2013</th>\n",
       "      <td>1000.0</td>\n",
       "      <td>55.0</td>\n",
       "      <td>280.0</td>\n",
       "      <td>187.0</td>\n",
       "      <td>549.0</td>\n",
       "      <td>240.0</td>\n",
       "      <td>0.0</td>\n",
       "      <td>0.0</td>\n",
       "      <td>118.0</td>\n",
       "      <td>5.0</td>\n",
       "      <td>50034.0</td>\n",
       "    </tr>\n",
       "    <tr>\n",
       "      <th>2013</th>\n",
       "      <td>1710.0</td>\n",
       "      <td>267.0</td>\n",
       "      <td>320.0</td>\n",
       "      <td>371.0</td>\n",
       "      <td>3296.0</td>\n",
       "      <td>500.0</td>\n",
       "      <td>0.0</td>\n",
       "      <td>0.0</td>\n",
       "      <td>86.0</td>\n",
       "      <td>149.0</td>\n",
       "      <td>121370.0</td>\n",
       "    </tr>\n",
       "  </tbody>\n",
       "</table>\n",
       "</div>"
      ],
      "text/plain": [
       "      num_exemptions  st_local_income_tax_scheduled_amt  single_returns  \\\n",
       "year                                                                      \n",
       "2013          4250.0                               62.0          2510.0   \n",
       "2013          3340.0                               16.0          1520.0   \n",
       "2013          1840.0                               38.0           740.0   \n",
       "2013          1000.0                               55.0           280.0   \n",
       "2013          1710.0                              267.0           320.0   \n",
       "\n",
       "      tax_credit_amt  net_cap_gain_amt  joint_returns  \\\n",
       "year                                                    \n",
       "2013           160.0             169.0          190.0   \n",
       "2013           607.0             522.0          280.0   \n",
       "2013           380.0             857.0          290.0   \n",
       "2013           187.0             549.0          240.0   \n",
       "2013           371.0            3296.0          500.0   \n",
       "\n",
       "      earned_income_credit_amt  add_child_credit_amt  child_tax_cred_amt  \\\n",
       "year                                                                       \n",
       "2013                    2129.0                 577.0                32.0   \n",
       "2013                     627.0                 351.0               347.0   \n",
       "2013                       0.0                  36.0               256.0   \n",
       "2013                       0.0                   0.0               118.0   \n",
       "2013                       0.0                   0.0                86.0   \n",
       "\n",
       "      for_tax_credit_amt  adj_gross_income  \n",
       "year                                        \n",
       "2013                 1.0           39072.0  \n",
       "2013                 2.0           79567.0  \n",
       "2013                 5.0           70652.0  \n",
       "2013                 5.0           50034.0  \n",
       "2013               149.0          121370.0  "
      ]
     },
     "execution_count": 48,
     "metadata": {},
     "output_type": "execute_result"
    }
   ],
   "source": [
    "#Check the shape of the df\n",
    "print(df.shape)\n",
    "df.head()"
   ]
  },
  {
   "cell_type": "code",
   "execution_count": 49,
   "id": "758bd178",
   "metadata": {},
   "outputs": [
    {
     "name": "stdout",
     "output_type": "stream",
     "text": [
      "(676576, 10)\n"
     ]
    },
    {
     "data": {
      "text/html": [
       "<div>\n",
       "<style scoped>\n",
       "    .dataframe tbody tr th:only-of-type {\n",
       "        vertical-align: middle;\n",
       "    }\n",
       "\n",
       "    .dataframe tbody tr th {\n",
       "        vertical-align: top;\n",
       "    }\n",
       "\n",
       "    .dataframe thead th {\n",
       "        text-align: right;\n",
       "    }\n",
       "</style>\n",
       "<table border=\"1\" class=\"dataframe\">\n",
       "  <thead>\n",
       "    <tr style=\"text-align: right;\">\n",
       "      <th></th>\n",
       "      <th>st_local_income_tax_scheduled_amt</th>\n",
       "      <th>net_cap_gain_amt</th>\n",
       "      <th>joint_returns</th>\n",
       "      <th>adj_gross_income</th>\n",
       "      <th>net_investment_income_tax_amt</th>\n",
       "      <th>contributions_sch_amt</th>\n",
       "      <th>real_estate_tax_sceduled_amt</th>\n",
       "      <th>mortgage_int_paid_amt</th>\n",
       "      <th>self_emp_tax_amt</th>\n",
       "      <th>num_of_returns_w_taxable_int</th>\n",
       "    </tr>\n",
       "    <tr>\n",
       "      <th>year</th>\n",
       "      <th></th>\n",
       "      <th></th>\n",
       "      <th></th>\n",
       "      <th></th>\n",
       "      <th></th>\n",
       "      <th></th>\n",
       "      <th></th>\n",
       "      <th></th>\n",
       "      <th></th>\n",
       "      <th></th>\n",
       "    </tr>\n",
       "  </thead>\n",
       "  <tbody>\n",
       "    <tr>\n",
       "      <th>2013</th>\n",
       "      <td>62.0</td>\n",
       "      <td>169.0</td>\n",
       "      <td>190.0</td>\n",
       "      <td>39072.0</td>\n",
       "      <td>0.0</td>\n",
       "      <td>125.0</td>\n",
       "      <td>269.0</td>\n",
       "      <td>429.0</td>\n",
       "      <td>298.0</td>\n",
       "      <td>440.0</td>\n",
       "    </tr>\n",
       "    <tr>\n",
       "      <th>2013</th>\n",
       "      <td>16.0</td>\n",
       "      <td>522.0</td>\n",
       "      <td>280.0</td>\n",
       "      <td>79567.0</td>\n",
       "      <td>0.0</td>\n",
       "      <td>302.0</td>\n",
       "      <td>516.0</td>\n",
       "      <td>969.0</td>\n",
       "      <td>426.0</td>\n",
       "      <td>340.0</td>\n",
       "    </tr>\n",
       "    <tr>\n",
       "      <th>2013</th>\n",
       "      <td>38.0</td>\n",
       "      <td>857.0</td>\n",
       "      <td>290.0</td>\n",
       "      <td>70652.0</td>\n",
       "      <td>0.0</td>\n",
       "      <td>511.0</td>\n",
       "      <td>743.0</td>\n",
       "      <td>1454.0</td>\n",
       "      <td>351.0</td>\n",
       "      <td>370.0</td>\n",
       "    </tr>\n",
       "    <tr>\n",
       "      <th>2013</th>\n",
       "      <td>55.0</td>\n",
       "      <td>549.0</td>\n",
       "      <td>240.0</td>\n",
       "      <td>50034.0</td>\n",
       "      <td>0.0</td>\n",
       "      <td>496.0</td>\n",
       "      <td>766.0</td>\n",
       "      <td>1288.0</td>\n",
       "      <td>405.0</td>\n",
       "      <td>270.0</td>\n",
       "    </tr>\n",
       "    <tr>\n",
       "      <th>2013</th>\n",
       "      <td>267.0</td>\n",
       "      <td>3296.0</td>\n",
       "      <td>500.0</td>\n",
       "      <td>121370.0</td>\n",
       "      <td>0.0</td>\n",
       "      <td>1748.0</td>\n",
       "      <td>2175.0</td>\n",
       "      <td>3767.0</td>\n",
       "      <td>888.0</td>\n",
       "      <td>520.0</td>\n",
       "    </tr>\n",
       "  </tbody>\n",
       "</table>\n",
       "</div>"
      ],
      "text/plain": [
       "      st_local_income_tax_scheduled_amt  net_cap_gain_amt  joint_returns  \\\n",
       "year                                                                       \n",
       "2013                               62.0             169.0          190.0   \n",
       "2013                               16.0             522.0          280.0   \n",
       "2013                               38.0             857.0          290.0   \n",
       "2013                               55.0             549.0          240.0   \n",
       "2013                              267.0            3296.0          500.0   \n",
       "\n",
       "      adj_gross_income  net_investment_income_tax_amt  contributions_sch_amt  \\\n",
       "year                                                                           \n",
       "2013           39072.0                            0.0                  125.0   \n",
       "2013           79567.0                            0.0                  302.0   \n",
       "2013           70652.0                            0.0                  511.0   \n",
       "2013           50034.0                            0.0                  496.0   \n",
       "2013          121370.0                            0.0                 1748.0   \n",
       "\n",
       "      real_estate_tax_sceduled_amt  mortgage_int_paid_amt  self_emp_tax_amt  \\\n",
       "year                                                                          \n",
       "2013                         269.0                  429.0             298.0   \n",
       "2013                         516.0                  969.0             426.0   \n",
       "2013                         743.0                 1454.0             351.0   \n",
       "2013                         766.0                 1288.0             405.0   \n",
       "2013                        2175.0                 3767.0             888.0   \n",
       "\n",
       "      num_of_returns_w_taxable_int  \n",
       "year                                \n",
       "2013                         440.0  \n",
       "2013                         340.0  \n",
       "2013                         370.0  \n",
       "2013                         270.0  \n",
       "2013                         520.0  "
      ]
     },
     "execution_count": 49,
     "metadata": {},
     "output_type": "execute_result"
    }
   ],
   "source": [
    "#Check the shape of the copy df\n",
    "print(df1.shape)\n",
    "df1.head()"
   ]
  },
  {
   "cell_type": "markdown",
   "id": "d97ba351",
   "metadata": {},
   "source": [
    "# Split Data"
   ]
  },
  {
   "cell_type": "code",
   "execution_count": 50,
   "id": "bea7e1a1",
   "metadata": {},
   "outputs": [
    {
     "name": "stdout",
     "output_type": "stream",
     "text": [
      "The shape of X is: (676576, 10)\n",
      "The shape of X1 is: (676576, 9)\n",
      "The shape of y is: (676576,)\n",
      "The shape of y1 is: (676576,)\n"
     ]
    }
   ],
   "source": [
    "#Define target variable \n",
    "target = \"adj_gross_income\"\n",
    "#Assign target variable to y variable\n",
    "y = df[target]\n",
    "y1= df1[target]\n",
    "\n",
    "#Drop target variable from X\n",
    "X = df.drop(columns=target)\n",
    "X1 = df1.drop(columns=target)\n",
    "\n",
    "#Confirm the shapes of the split\n",
    "print(\"The shape of X is:\", X.shape)\n",
    "print(\"The shape of X1 is:\", X1.shape)\n",
    "print(\"The shape of y is:\", y.shape)\n",
    "print(\"The shape of y1 is:\", y1.shape)"
   ]
  },
  {
   "cell_type": "code",
   "execution_count": 51,
   "id": "743e74c5",
   "metadata": {},
   "outputs": [
    {
     "name": "stdout",
     "output_type": "stream",
     "text": [
      "The shape of X_train is: (541260, 10)\n",
      "The shape of y_train is: (541260,)\n",
      "The shape of X1_train is: (541260, 9)\n",
      "The shape of y1_train is: (541260,)\n",
      "\n",
      "The shape of X_val is: (101486, 10)\n",
      "The shape of y_val is: (101486,)\n",
      "The shape of X1_val is: (101486, 9)\n",
      "The shape of y1_val is: (101486,)\n",
      "\n",
      "The shape of X_test is: (33830, 10)\n",
      "The shape of y_test is: (33830,)\n",
      "The shape of X1_test is: (33830, 9)\n",
      "The shape of y1_test is: (33830,)\n"
     ]
    }
   ],
   "source": [
    "#Assign 80% of the data to training set\n",
    "X_train, y_train = X[:541260], y[:541260]\n",
    "X1_train, y1_train = X1[:541260], y1[:541260]\n",
    "\n",
    "#Assign 15% of the data to validation set\n",
    "X_val, y_val = X[541260:-33830], y[541260:-33830]\n",
    "X1_val, y1_val = X1[541260:-33830], y1[541260:-33830]\n",
    "\n",
    "#Assign 5% of the data to test set\n",
    "X_test, y_test = X[-33830:],y[-33830:]\n",
    "X1_test, y1_test = X1[-33830:],y1[-33830:]\n",
    "\n",
    "#Check the shape of the split data\n",
    "print(\"The shape of X_train is:\", X_train.shape)\n",
    "print(\"The shape of y_train is:\", y_train.shape)\n",
    "print(\"The shape of X1_train is:\", X1_train.shape)\n",
    "print(\"The shape of y1_train is:\", y1_train.shape)\n",
    "print(\"\")\n",
    "print(\"The shape of X_val is:\", X_val.shape)\n",
    "print(\"The shape of y_val is:\", y_val.shape)\n",
    "print(\"The shape of X1_val is:\", X1_val.shape)\n",
    "print(\"The shape of y1_val is:\", y1_val.shape)\n",
    "print(\"\")\n",
    "print(\"The shape of X_test is:\", X_test.shape)\n",
    "print(\"The shape of y_test is:\", y_test.shape)\n",
    "print(\"The shape of X1_test is:\", X1_test.shape)\n",
    "print(\"The shape of y1_test is:\", y1_test.shape)"
   ]
  },
  {
   "cell_type": "markdown",
   "id": "6a773311",
   "metadata": {},
   "source": [
    "# Calculate Baseline MAE"
   ]
  },
  {
   "cell_type": "code",
   "execution_count": 52,
   "id": "b05a0ce8",
   "metadata": {},
   "outputs": [
    {
     "name": "stdout",
     "output_type": "stream",
     "text": [
      "The baseline mae is 68181.68533349526\n",
      "The baseline mae1 is 68181.68533349526\n"
     ]
    }
   ],
   "source": [
    "#calculate the mean of the adj income column for the training set\n",
    "y_mean = y_train.mean()\n",
    "y1_mean = y1_train.mean()\n",
    "\n",
    "#create a list of mean values the length of the y_train set\n",
    "y_pred = [y_mean] * len(y_train)\n",
    "y1_pred = [y1_mean] * len(y1_train)\n",
    "\n",
    "#calculate the mae for the training set\n",
    "baseline_mae = mean_absolute_error(y_train,y_pred)\n",
    "baseline_mae1 = mean_absolute_error(y1_train,y1_pred)\n",
    "\n",
    "print(\"The baseline mae is\",baseline_mae)\n",
    "print(\"The baseline mae1 is\",baseline_mae1)"
   ]
  },
  {
   "cell_type": "markdown",
   "id": "ff76045c",
   "metadata": {},
   "source": [
    "# Ridge Regression Model"
   ]
  },
  {
   "cell_type": "code",
   "execution_count": 53,
   "id": "4affc67c",
   "metadata": {},
   "outputs": [],
   "source": [
    "#Create a Ridge Regression model with an Ordinal Encoder\n",
    "model_r = make_pipeline(Ridge(random_state=42))\n",
    "\n",
    "#Fit the Ridge Regression model \n",
    "model_r.fit(X_train,y_train);"
   ]
  },
  {
   "cell_type": "code",
   "execution_count": 54,
   "id": "87ee24e8",
   "metadata": {},
   "outputs": [],
   "source": [
    "#The predicted y values of the training model\n",
    "y_pred_train_r = model_r.predict(X_train)\n",
    "#The training mae \n",
    "training_mae_r= mean_absolute_error(y_train,y_pred_train_r)\n",
    "\n",
    "#The predicted y values of the val model\n",
    "y_pred_val_r = model_r.predict(X_val)\n",
    "#The validation mae \n",
    "validation_mae_r= mean_absolute_error(y_val,y_pred_val_r)"
   ]
  },
  {
   "cell_type": "code",
   "execution_count": 55,
   "id": "4479af4f",
   "metadata": {},
   "outputs": [
    {
     "name": "stdout",
     "output_type": "stream",
     "text": [
      "The training MAE: 12134.599023580216\n",
      "The validation MAE: 9359.868119880088\n",
      "The training score is: 0.9550738011320721\n",
      "The validation score is: 0.9690204169899005\n"
     ]
    }
   ],
   "source": [
    "print(\"The training MAE:\", training_mae_r)\n",
    "print(\"The validation MAE:\", validation_mae_r)\n",
    "print(\"The training score is:\", model_r.score(X_train,y_train))\n",
    "print(\"The validation score is:\", model_r.score(X_val, y_val))"
   ]
  },
  {
   "cell_type": "markdown",
   "id": "7857558e",
   "metadata": {},
   "source": [
    "# Tune Ridge Model"
   ]
  },
  {
   "cell_type": "code",
   "execution_count": 56,
   "id": "0a5aec2a",
   "metadata": {},
   "outputs": [
    {
     "name": "stdout",
     "output_type": "stream",
     "text": [
      "Fitting 5 folds for each of 10 candidates, totalling 50 fits\n"
     ]
    },
    {
     "data": {
      "text/plain": [
       "RandomizedSearchCV(cv=5,\n",
       "                   estimator=Pipeline(steps=[('ridge',\n",
       "                                              Ridge(random_state=42))]),\n",
       "                   n_jobs=-1,\n",
       "                   param_distributions={'ridge__alpha': range(1, 10),\n",
       "                                        'ridge__max_iter': range(100, 1000, 100)},\n",
       "                   verbose=1)"
      ]
     },
     "execution_count": 56,
     "metadata": {},
     "output_type": "execute_result"
    }
   ],
   "source": [
    "#Create a dictionary for hypertuning parameters\n",
    "param_grid = {'ridge__alpha':range(1, 10,1),\n",
    "             'ridge__max_iter':range(100,1000,100)}\n",
    "#Use RandomizedSearch to test hyperparamaters\n",
    "model_ridge = RandomizedSearchCV(model_r,\n",
    "                          param_distributions = param_grid,\n",
    "                          n_jobs=-1,\n",
    "                          cv=5,\n",
    "                          verbose=1)\n",
    "#Fit tuned model for testing\n",
    "model_ridge.fit(X_train, y_train)"
   ]
  },
  {
   "cell_type": "code",
   "execution_count": 57,
   "id": "1c06a898",
   "metadata": {},
   "outputs": [
    {
     "name": "stdout",
     "output_type": "stream",
     "text": [
      "{'ridge__max_iter': 100, 'ridge__alpha': 9}\n"
     ]
    }
   ],
   "source": [
    "#Confirm best parameters\n",
    "print(model_ridge.best_params_)\n",
    "#Assign optimal model to variable\n",
    "model_r = model_ridge.best_estimator_"
   ]
  },
  {
   "cell_type": "code",
   "execution_count": 58,
   "id": "a7ca6829",
   "metadata": {},
   "outputs": [
    {
     "name": "stdout",
     "output_type": "stream",
     "text": [
      "The test MAE: 12235.653304060064\n",
      "The test score is: 0.9301263743211979\n"
     ]
    }
   ],
   "source": [
    "#Test model\n",
    "print(\"The test MAE:\", mean_absolute_error(y_test, model_r.predict(X_test)))\n",
    "print(\"The test score is:\", model_r.score(X_test, y_test))"
   ]
  },
  {
   "cell_type": "markdown",
   "id": "67564119",
   "metadata": {},
   "source": [
    "# Visualize Ridge Model"
   ]
  },
  {
   "cell_type": "code",
   "execution_count": 59,
   "id": "b1363a26",
   "metadata": {},
   "outputs": [],
   "source": [
    "#Validate model by testing permutation importance\n",
    "perm_imp = permutation_importance(model_r,\n",
    "                                 X_val,\n",
    "                                 y_val,\n",
    "                                 n_jobs=-1,\n",
    "                                 random_state=42)"
   ]
  },
  {
   "cell_type": "code",
   "execution_count": 60,
   "id": "f5a6956b",
   "metadata": {},
   "outputs": [
    {
     "data": {
      "text/html": [
       "<div>\n",
       "<style scoped>\n",
       "    .dataframe tbody tr th:only-of-type {\n",
       "        vertical-align: middle;\n",
       "    }\n",
       "\n",
       "    .dataframe tbody tr th {\n",
       "        vertical-align: top;\n",
       "    }\n",
       "\n",
       "    .dataframe thead th {\n",
       "        text-align: right;\n",
       "    }\n",
       "</style>\n",
       "<table border=\"1\" class=\"dataframe\">\n",
       "  <thead>\n",
       "    <tr style=\"text-align: right;\">\n",
       "      <th></th>\n",
       "      <th>imp_mean</th>\n",
       "      <th>imp_std</th>\n",
       "    </tr>\n",
       "  </thead>\n",
       "  <tbody>\n",
       "    <tr>\n",
       "      <th>joint_returns</th>\n",
       "      <td>0.022066</td>\n",
       "      <td>0.000140</td>\n",
       "    </tr>\n",
       "    <tr>\n",
       "      <th>earned_income_credit_amt</th>\n",
       "      <td>0.047275</td>\n",
       "      <td>0.000227</td>\n",
       "    </tr>\n",
       "    <tr>\n",
       "      <th>st_local_income_tax_scheduled_amt</th>\n",
       "      <td>0.137118</td>\n",
       "      <td>0.000089</td>\n",
       "    </tr>\n",
       "    <tr>\n",
       "      <th>for_tax_credit_amt</th>\n",
       "      <td>0.157266</td>\n",
       "      <td>0.000147</td>\n",
       "    </tr>\n",
       "    <tr>\n",
       "      <th>single_returns</th>\n",
       "      <td>0.180405</td>\n",
       "      <td>0.001012</td>\n",
       "    </tr>\n",
       "    <tr>\n",
       "      <th>add_child_credit_amt</th>\n",
       "      <td>0.181747</td>\n",
       "      <td>0.000819</td>\n",
       "    </tr>\n",
       "    <tr>\n",
       "      <th>net_cap_gain_amt</th>\n",
       "      <td>0.195110</td>\n",
       "      <td>0.000164</td>\n",
       "    </tr>\n",
       "    <tr>\n",
       "      <th>child_tax_cred_amt</th>\n",
       "      <td>0.332474</td>\n",
       "      <td>0.000958</td>\n",
       "    </tr>\n",
       "    <tr>\n",
       "      <th>tax_credit_amt</th>\n",
       "      <td>0.477759</td>\n",
       "      <td>0.000375</td>\n",
       "    </tr>\n",
       "    <tr>\n",
       "      <th>num_exemptions</th>\n",
       "      <td>2.702871</td>\n",
       "      <td>0.007247</td>\n",
       "    </tr>\n",
       "  </tbody>\n",
       "</table>\n",
       "</div>"
      ],
      "text/plain": [
       "                                   imp_mean   imp_std\n",
       "joint_returns                      0.022066  0.000140\n",
       "earned_income_credit_amt           0.047275  0.000227\n",
       "st_local_income_tax_scheduled_amt  0.137118  0.000089\n",
       "for_tax_credit_amt                 0.157266  0.000147\n",
       "single_returns                     0.180405  0.001012\n",
       "add_child_credit_amt               0.181747  0.000819\n",
       "net_cap_gain_amt                   0.195110  0.000164\n",
       "child_tax_cred_amt                 0.332474  0.000958\n",
       "tax_credit_amt                     0.477759  0.000375\n",
       "num_exemptions                     2.702871  0.007247"
      ]
     },
     "execution_count": 60,
     "metadata": {},
     "output_type": "execute_result"
    }
   ],
   "source": [
    "#Create dictionary to transfer to df\n",
    "data = {\"imp_mean\": perm_imp[\"importances_mean\"],\n",
    "       \"imp_std\": perm_imp[\"importances_std\"]}\n",
    "#Create df for easy viewing \n",
    "importances= pd.DataFrame(data, index=X_val.columns).sort_values(by=\"imp_mean\")\n",
    "importances"
   ]
  },
  {
   "cell_type": "code",
   "execution_count": 61,
   "id": "30be6777",
   "metadata": {},
   "outputs": [
    {
     "data": {
      "text/plain": [
       "Text(0.5, 1.0, 'The Most Importanct Features to Predict')"
      ]
     },
     "execution_count": 61,
     "metadata": {},
     "output_type": "execute_result"
    },
    {
     "data": {
      "image/png": "[encoded data removed]",
      "text/plain": [
       "<Figure size 432x288 with 1 Axes>"
      ]
     },
     "metadata": {
      "needs_background": "light"
     },
     "output_type": "display_data"
    }
   ],
   "source": [
    "#Visualize feature importances \n",
    "importances[\"imp_mean\"].tail(10).plot(kind=\"barh\")\n",
    "plt.xlabel(\"Feature Importance Means\")\n",
    "plt.title(\"The Most Importanct Features to Predict\")"
   ]
  },
  {
   "cell_type": "markdown",
   "id": "a11d1c6f",
   "metadata": {},
   "source": [
    "# RandomForestRegressor Model\n",
    "\n",
    "\n"
   ]
  },
  {
   "cell_type": "code",
   "execution_count": 62,
   "id": "19107307",
   "metadata": {},
   "outputs": [],
   "source": [
    "#Create tree based model\n",
    "model_rf = make_pipeline(RandomForestRegressor(random_state=42, n_jobs=-1)\n",
    ")\n",
    "#Fit randomforest model\n",
    "model_rf.fit(X1_train, y1_train);"
   ]
  },
  {
   "cell_type": "code",
   "execution_count": 63,
   "id": "cdab4d97",
   "metadata": {},
   "outputs": [],
   "source": [
    "#The predicted y values of the training model\n",
    "y_pred_train_rf = model_rf.predict(X1_train)\n",
    "#The training mae \n",
    "training_mae_rf = mean_absolute_error(y1_train,y_pred_train_rf)\n",
    "\n",
    "#The predicted y values of the val model\n",
    "y_pred_val_rf = model_rf.predict(X1_val)\n",
    "#The validation mae \n",
    "validation_mae_rf = mean_absolute_error(y1_val,y_pred_val_rf)"
   ]
  },
  {
   "cell_type": "code",
   "execution_count": 64,
   "id": "f56d100d",
   "metadata": {},
   "outputs": [
    {
     "name": "stdout",
     "output_type": "stream",
     "text": [
      "The training MAE: 2106.5961626445073\n",
      "The validation MAE: 4191.334343844921\n",
      "The training score is: 0.9984347036142615\n",
      "The validation score is: 0.9899666869244281\n"
     ]
    }
   ],
   "source": [
    "#Calculate MAE/Score for Tree-based Model\n",
    "print(\"The training MAE:\", training_mae_rf)\n",
    "print(\"The validation MAE:\", validation_mae_rf)\n",
    "print(\"The training score is:\", model_rf.score(X1_train,y1_train))\n",
    "print(\"The validation score is:\", model_rf.score(X1_val, y1_val))"
   ]
  },
  {
   "cell_type": "markdown",
   "id": "688646eb",
   "metadata": {},
   "source": [
    "# Tune RandomForest Model "
   ]
  },
  {
   "cell_type": "code",
   "execution_count": 65,
   "id": "f9f4c291",
   "metadata": {},
   "outputs": [
    {
     "name": "stdout",
     "output_type": "stream",
     "text": [
      "Fitting 3 folds for each of 8 candidates, totalling 24 fits\n"
     ]
    },
    {
     "data": {
      "text/plain": [
       "RandomizedSearchCV(cv=3,\n",
       "                   estimator=Pipeline(steps=[('randomforestregressor',\n",
       "                                              RandomForestRegressor(n_jobs=-1,\n",
       "                                                                    random_state=42))]),\n",
       "                   n_jobs=-1,\n",
       "                   param_distributions={'randomforestregressor__max_depth': range(10, 20, 5),\n",
       "                                        'randomforestregressor__n_estimators': range(60, 100, 10)},\n",
       "                   verbose=1)"
      ]
     },
     "execution_count": 65,
     "metadata": {},
     "output_type": "execute_result"
    }
   ],
   "source": [
    "#Create Dictionary for hyperparameter testing \n",
    "param_grid_2 = {'randomforestregressor__n_estimators':range(60,100,10),\n",
    "                'randomforestregressor__max_depth':range(10,20,5)}\n",
    "\n",
    "#Utilize RandomizedSearch for hyperparameter tuning\n",
    "model_randomforest = RandomizedSearchCV(model_rf,\n",
    "                          param_distributions = param_grid_2,\n",
    "                          n_jobs=-1,\n",
    "                          cv=3,\n",
    "                          verbose=1)\n",
    "#Fit Model for testing\n",
    "model_randomforest.fit(X1_train, y1_train)"
   ]
  },
  {
   "cell_type": "code",
   "execution_count": 66,
   "id": "a5099bd7",
   "metadata": {},
   "outputs": [
    {
     "name": "stdout",
     "output_type": "stream",
     "text": [
      "{'randomforestregressor__n_estimators': 70, 'randomforestregressor__max_depth': 15}\n"
     ]
    }
   ],
   "source": [
    "#Confirm optimal parameters\n",
    "print(model_randomforest.best_params_)\n",
    "#Assign optimal model\n",
    "model_rf = model_randomforest.best_estimator_"
   ]
  },
  {
   "cell_type": "code",
   "execution_count": 67,
   "id": "63a6f862",
   "metadata": {},
   "outputs": [
    {
     "name": "stdout",
     "output_type": "stream",
     "text": [
      "The test MAE: 5551.571457273418\n",
      "The test score is: 0.9897222359862173\n"
     ]
    }
   ],
   "source": [
    "#Test model on test data\n",
    "print(\"The test MAE:\", mean_absolute_error(y1_test, model_rf.predict(X1_test)))\n",
    "print(\"The test score is:\", model_rf.score(X1_test, y1_test))"
   ]
  },
  {
   "cell_type": "markdown",
   "id": "21abb752",
   "metadata": {},
   "source": [
    "# Visualize RandomForest Model\n"
   ]
  },
  {
   "cell_type": "code",
   "execution_count": 68,
   "id": "4e8924d1",
   "metadata": {},
   "outputs": [
    {
     "data": {
      "text/plain": [
       "num_of_returns_w_taxable_int         0.017974\n",
       "joint_returns                        0.025857\n",
       "self_emp_tax_amt                     0.034036\n",
       "st_local_income_tax_scheduled_amt    0.042082\n",
       "mortgage_int_paid_amt                0.049610\n",
       "real_estate_tax_sceduled_amt         0.051237\n",
       "contributions_sch_amt                0.209779\n",
       "net_investment_income_tax_amt        0.270284\n",
       "net_cap_gain_amt                     0.299140\n",
       "dtype: float64"
      ]
     },
     "execution_count": 68,
     "metadata": {},
     "output_type": "execute_result"
    }
   ],
   "source": [
    "#Grab feature importances\n",
    "importances = model_rf.named_steps[\"randomforestregressor\"].feature_importances_\n",
    "features = X1_train.columns\n",
    "feat_imp = pd.Series(importances, index = features).sort_values()\n",
    "feat_imp"
   ]
  },
  {
   "cell_type": "code",
   "execution_count": 69,
   "id": "a33731cb",
   "metadata": {},
   "outputs": [
    {
     "data": {
      "text/plain": [
       "Text(0.5, 1.0, 'The most important features to predict')"
      ]
     },
     "execution_count": 69,
     "metadata": {},
     "output_type": "execute_result"
    },
    {
     "data": {
      "image/png": "[encoded data removed]",
      "text/plain": [
       "<Figure size 432x288 with 1 Axes>"
      ]
     },
     "metadata": {
      "needs_background": "light"
     },
     "output_type": "display_data"
    }
   ],
   "source": [
    "#Visualize Feature importances\n",
    "feat_imp.tail().plot(kind=\"barh\")\n",
    "plt.xlabel(\"The reduction in Gini Impurity\")\n",
    "plt.title(\"The most important features to predict\")"
   ]
  },
  {
   "cell_type": "code",
   "execution_count": null,
   "id": "3327f7af",
   "metadata": {},
   "outputs": [],
   "source": []
  }
 ],
 "metadata": {
  "kernelspec": {
   "display_name": "Python 3",
   "language": "python",
   "name": "python3"
  },
  "language_info": {
   "codemirror_mode": {
    "name": "ipython",
    "version": 3
   },
   "file_extension": ".py",
   "mimetype": "text/x-python",
   "name": "python",
   "nbconvert_exporter": "python",
   "pygments_lexer": "ipython3",
   "version": "3.8.8"
  }
 },
 "nbformat": 4,
 "nbformat_minor": 5
}
